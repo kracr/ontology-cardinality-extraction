{
 "cells": [
  {
   "cell_type": "code",
   "execution_count": 1,
   "metadata": {},
   "outputs": [],
   "source": [
    "def readfile(file):\n",
    " fp = codecs.open(file,\"rU\", encoding=\"utf8\",errors='ignore')\n",
    " text = fp.read()\n",
    " return text\n",
    "\n",
    "import codecs\n",
    "\n",
    "trainpath2=\"D:\\\\model\\\\Training data\\\\hasDuration.txt\"                                                        \n",
    "traindata2=readfile(trainpath2)\n",
    "dataX2=[]\n",
    "dataY2=[]\n",
    "news2=traindata2.split(\"\\n\")\n",
    "for line1 in news2:\n",
    "    line1=line1.strip()\n",
    "    feature2,label2=line1.split(\":\",2)\n",
    "    dataX2.append(feature2)\n",
    "    dataY2.append(label2)"
   ]
  },
  {
   "cell_type": "code",
   "execution_count": null,
   "metadata": {},
   "outputs": [],
   "source": []
  },
  {
   "cell_type": "code",
   "execution_count": 2,
   "metadata": {},
   "outputs": [],
   "source": [
    "from sklearn.model_selection import train_test_split\n",
    "Xtrain2, Xtest2, ytrain2, ytest2 = train_test_split(dataX2, dataY2, test_size=0.2, random_state=48)"
   ]
  },
  {
   "cell_type": "code",
   "execution_count": 3,
   "metadata": {},
   "outputs": [
    {
     "name": "stdout",
     "output_type": "stream",
     "text": [
      "accuracy 0.8541666666666666\n",
      "              precision    recall  f1-score   support\n",
      "\n",
      "           1       0.00      0.00      0.00         1\n",
      "           0       0.89      0.89      0.89        27\n",
      "           1       0.81      0.85      0.83        20\n",
      "\n",
      "    accuracy                           0.85        48\n",
      "   macro avg       0.57      0.58      0.57        48\n",
      "weighted avg       0.84      0.85      0.85        48\n",
      "\n"
     ]
    },
    {
     "name": "stderr",
     "output_type": "stream",
     "text": [
      "C:\\Users\\monika\\Anaconda3\\lib\\site-packages\\sklearn\\metrics\\classification.py:1437: UndefinedMetricWarning: Precision and F-score are ill-defined and being set to 0.0 in labels with no predicted samples.\n",
      "  'precision', 'predicted', average, warn_for)\n"
     ]
    }
   ],
   "source": [
    "from sklearn.naive_bayes import MultinomialNB\n",
    "from sklearn.pipeline import Pipeline\n",
    "from sklearn.feature_extraction.text import TfidfTransformer\n",
    "from sklearn.feature_extraction.text import CountVectorizer\n",
    "from sklearn.metrics import accuracy_score\n",
    "\n",
    "nb3= Pipeline([('vect', CountVectorizer()),\n",
    "               ('tfidf', TfidfTransformer()),\n",
    "               ('clf', MultinomialNB()),\n",
    "              ])\n",
    "nb3.fit(Xtrain2, ytrain2)\n",
    "\n",
    "from sklearn.metrics import classification_report\n",
    "ypredvolume = nb3.predict(Xtest2)\n",
    "\n",
    "\n",
    "\n",
    "print('accuracy %s' % accuracy_score(ypredvolume, ytest2))\n",
    "print(classification_report(ytest2, ypredvolume))"
   ]
  },
  {
   "cell_type": "code",
   "execution_count": 4,
   "metadata": {},
   "outputs": [
    {
     "name": "stdout",
     "output_type": "stream",
     "text": [
      "['Age 3 to 5 Years:\\r', '-Initial Dose: 2.5 mg orally per day\\r', '-Maintenance Dose: Daily dose may be raised in 2.5 mg increments at weekly intervals until optimal response is obtained.\\r', 'Age 6 to 17 Years:\\r', '-Initial Dose: 5 mg orally 1 or 2 times a day\\r', '-Maintenance Dose: Daily dose may be raised in 5 mg increments at weekly intervals until optimal response is obtained.\\r', '-Maximum Dose: Only in rare cases will it be necessary to exceed 40 mg per day.\\r', 'Age 6 to 12 Years (starting treatment for the first time or switching from another medication):\\r', '-Initial Dose: 5 or 10 mg orally once a day in the morning\\r', '-Maintenance Dose: Daily dose may be raised in 5 to 10 mg increments at weekly intervals.\\r', '-Maximum Dose: 30 mg/day\\r', 'Age 13 to 17 Years (starting treatment for the first time or switching from another medication):\\r', '-Initial Dose: 10 mg orally once a day\\r', '-Maintenance Dose: Daily dose may be increased to 20 mg/day after one week if symptoms are not adequately controlled.\\r', '-Maximum Dose: 30 mg/day\\r', '-IR: The first dose should be given on awakening; 1 to 2 additional doses should be given at intervals of 4 to 6 hours.\\r', 'Age 6 to 11 Years:\\r', '-Initial Dose: 5 mg orally per day in divided doses\\r', '-Maintenance Dose: Daily dose may be raised in 5 mg increments at weekly intervals until optimal response is obtained.\\r', 'Age 12 Years and Older:\\r', '-Initial Dose: 10 mg orally per day in divided doses\\r', '-Maintenance Dose: Daily dose may be raised in 10 mg increments at weekly intervals until optimal response is obtained.\\r', '-The first dose should be given on awakening; 1 to 2 additional doses should be given at intervals of 4 to 6 hours.\\r', '-The usual dose is 5 to 60 mg per day in divided doses, depending on the individual patient response.\\r', '-Narcolepsy rarely occurs in children under 12 years of age.\\r']\n"
     ]
    }
   ],
   "source": [
    "import re\n",
    "import codecs\n",
    "from nltk.tokenize import sent_tokenize\n",
    "\n",
    "\n",
    "def readfile(file):\n",
    " fp = codecs.open(file,\"rU\", encoding=\"utf8\",errors='ignore')\n",
    " text = fp.read()\n",
    " return text\n",
    "\n",
    "\n",
    "otherspath=\"D:\\\\model\\\\Training data\\\\Results\\\\others\\\\Drugs.com\\\\Amphetamine\\\\Amphetamine.txt\"                                                        \n",
    "drug1=readfile(otherspath)\n",
    "\n",
    "#sen = re.findall(r\"\\.(?P<sentence>.*?[0-9].*?)\\.\",drug1)  # if the sentence contain numeric value\n",
    "#sen=str(sen)\n",
    "#print(sen)\n",
    "\"\"\"\n",
    "\n",
    "import spacy\n",
    "nlp = spacy.load('en')\n",
    "\n",
    "tokens = nlp((drug1))\n",
    "new=[]\n",
    "\n",
    "\n",
    "for sent in tokens.sents:\n",
    "    new.append(sent.string.strip())\n",
    "    \n",
    "    \"\"\"\n",
    "#new=sent_tokenize(drug1)\n",
    "new= '\\n'.join([x for x in drug1.split(\"\\n\") if x.strip()!=''])\n",
    "\n",
    "new=new.split('\\n')\n",
    "pattern=re.compile(\"(.)*((\\d))(.)*\")\n",
    "\n",
    "new1=[]\n",
    "\n",
    "for element in new:\n",
    "    z = re.match(pattern, element)\n",
    "    if z:\n",
    "     new1.append(element)\n",
    "print(new1)\n",
    "new=new1\n"
   ]
  },
  {
   "cell_type": "code",
   "execution_count": 5,
   "metadata": {},
   "outputs": [
    {
     "name": "stdout",
     "output_type": "stream",
     "text": [
      "['1' '0' '0' '1' '0' '0' '1' '1' '0' '0' '1' '1' '0' '0' '1' '1' '1' '0'\n",
      " '0' '1' '0' '0' '1' '1' '1']\n"
     ]
    }
   ],
   "source": [
    "y_pred_volume = nb3.predict(new)\n",
    "print(y_pred_volume)\n",
    "\n",
    "\n",
    "with open('D:\\\\model\\\\Training data\\\\Results\\\\others\\\\Drugs.com\\\\Amphetamine\\\\AmphetamineVolume.txt', 'a',encoding=\"utf-8\") as f1:\n",
    " for n1,g1 in zip(new,y_pred_volume):\n",
    "    print(n1,g1,file=f1)\n",
    "    "
   ]
  },
  {
   "cell_type": "code",
   "execution_count": 6,
   "metadata": {},
   "outputs": [
    {
     "ename": "FileNotFoundError",
     "evalue": "[WinError 3] The system cannot find the path specified: 'D:\\\\model\\\\drugs.com\\\\normal\\\\'",
     "output_type": "error",
     "traceback": [
      "\u001b[1;31m---------------------------------------------------------------------------\u001b[0m",
      "\u001b[1;31mFileNotFoundError\u001b[0m                         Traceback (most recent call last)",
      "\u001b[1;32m<ipython-input-6-426edc6cf1e8>\u001b[0m in \u001b[0;36m<module>\u001b[1;34m\u001b[0m\n\u001b[0;32m     15\u001b[0m \u001b[0mdir\u001b[0m \u001b[1;33m=\u001b[0m \u001b[1;34m\"D:\\\\model\\\\drugs.com\\\\normal\\\\\"\u001b[0m\u001b[1;33m\u001b[0m\u001b[1;33m\u001b[0m\u001b[0m\n\u001b[0;32m     16\u001b[0m \u001b[0mfiles\u001b[0m \u001b[1;33m=\u001b[0m \u001b[1;33m[\u001b[0m\u001b[1;33m]\u001b[0m\u001b[1;33m\u001b[0m\u001b[1;33m\u001b[0m\u001b[0m\n\u001b[1;32m---> 17\u001b[1;33m \u001b[1;32mfor\u001b[0m \u001b[0mi\u001b[0m \u001b[1;32min\u001b[0m \u001b[0mos\u001b[0m\u001b[1;33m.\u001b[0m\u001b[0mlistdir\u001b[0m\u001b[1;33m(\u001b[0m\u001b[0mdir\u001b[0m\u001b[1;33m)\u001b[0m\u001b[1;33m:\u001b[0m\u001b[1;33m\u001b[0m\u001b[1;33m\u001b[0m\u001b[0m\n\u001b[0m\u001b[0;32m     18\u001b[0m      \u001b[0mdrugall\u001b[0m\u001b[1;33m=\u001b[0m\u001b[1;33m[\u001b[0m\u001b[1;33m]\u001b[0m\u001b[1;33m\u001b[0m\u001b[1;33m\u001b[0m\u001b[0m\n\u001b[0;32m     19\u001b[0m      \u001b[0mnewall\u001b[0m\u001b[1;33m=\u001b[0m\u001b[1;33m[\u001b[0m\u001b[1;33m]\u001b[0m\u001b[1;33m\u001b[0m\u001b[1;33m\u001b[0m\u001b[0m\n",
      "\u001b[1;31mFileNotFoundError\u001b[0m: [WinError 3] The system cannot find the path specified: 'D:\\\\model\\\\drugs.com\\\\normal\\\\'"
     ]
    }
   ],
   "source": [
    "import re\n",
    "import codecs\n",
    "from nltk.tokenize import sent_tokenize\n",
    "\n",
    "\n",
    "def readfile(file):\n",
    " fp = codecs.open(file,\"rU\", encoding=\"utf8\",errors='ignore')\n",
    " text = fp.read()\n",
    " return text\n",
    "\n",
    "\n",
    "\n",
    "import os\n",
    "file_content =[]\n",
    "dir = \"D:\\\\model\\\\drugs.com\\\\normal\\\\\"\n",
    "files = []\n",
    "for i in os.listdir(dir):\n",
    "     drugall=[]\n",
    "     newall=[]\n",
    "     y_pred_doseall=[]\n",
    "        \n",
    "     filepath=dir+i\n",
    "     drugall=readfile(filepath)\n",
    "     newall= '\\n'.join([x for x in drugall.split(\"\\n\") if x.strip()!=''])\n",
    "\n",
    "     newall=newall.split('\\n')\n",
    "     pattern=re.compile(\"(.)*((\\d))(.)*\")\n",
    "\n",
    "     new1all=[]\n",
    "\n",
    "     for element in newall:\n",
    "       z = re.match(pattern, element)\n",
    "       if z:\n",
    "        new1all.append(element)\n",
    "        #print(new1)\n",
    "     newall=new1all\n",
    "     y_pred_doseall = nb3.predict(newall)\n",
    "     print(y_pred_doseall)\n",
    "\n",
    "\n",
    "     with open('D:\\\\model\\\\drugs.com\\\\hasDurationResults1\\\\'+i, 'a',encoding=\"utf-8\") as f1:\n",
    "      for n1,g1 in zip(newall,y_pred_doseall):\n",
    "       print(n1,g1,file=f1)\n",
    "            \n",
    "\n",
    "# do what you want with all these open files\n"
   ]
  },
  {
   "cell_type": "code",
   "execution_count": 8,
   "metadata": {},
   "outputs": [
    {
     "ename": "FileNotFoundError",
     "evalue": "[WinError 3] The system cannot find the path specified: 'D:\\\\model\\\\drugs.com\\\\pro\\\\'",
     "output_type": "error",
     "traceback": [
      "\u001b[1;31m---------------------------------------------------------------------------\u001b[0m",
      "\u001b[1;31mFileNotFoundError\u001b[0m                         Traceback (most recent call last)",
      "\u001b[1;32m<ipython-input-8-19418486b446>\u001b[0m in \u001b[0;36m<module>\u001b[1;34m\u001b[0m\n\u001b[0;32m     15\u001b[0m \u001b[0mdir\u001b[0m \u001b[1;33m=\u001b[0m \u001b[1;34m\"D:\\\\model\\\\drugs.com\\\\pro\\\\\"\u001b[0m\u001b[1;33m\u001b[0m\u001b[1;33m\u001b[0m\u001b[0m\n\u001b[0;32m     16\u001b[0m \u001b[0mfiles\u001b[0m \u001b[1;33m=\u001b[0m \u001b[1;33m[\u001b[0m\u001b[1;33m]\u001b[0m\u001b[1;33m\u001b[0m\u001b[1;33m\u001b[0m\u001b[0m\n\u001b[1;32m---> 17\u001b[1;33m \u001b[1;32mfor\u001b[0m \u001b[0mi\u001b[0m \u001b[1;32min\u001b[0m \u001b[0mos\u001b[0m\u001b[1;33m.\u001b[0m\u001b[0mlistdir\u001b[0m\u001b[1;33m(\u001b[0m\u001b[0mdir\u001b[0m\u001b[1;33m)\u001b[0m\u001b[1;33m:\u001b[0m\u001b[1;33m\u001b[0m\u001b[1;33m\u001b[0m\u001b[0m\n\u001b[0m\u001b[0;32m     18\u001b[0m      \u001b[0mdrugall\u001b[0m\u001b[1;33m=\u001b[0m\u001b[1;33m[\u001b[0m\u001b[1;33m]\u001b[0m\u001b[1;33m\u001b[0m\u001b[1;33m\u001b[0m\u001b[0m\n\u001b[0;32m     19\u001b[0m      \u001b[0mnewall\u001b[0m\u001b[1;33m=\u001b[0m\u001b[1;33m[\u001b[0m\u001b[1;33m]\u001b[0m\u001b[1;33m\u001b[0m\u001b[1;33m\u001b[0m\u001b[0m\n",
      "\u001b[1;31mFileNotFoundError\u001b[0m: [WinError 3] The system cannot find the path specified: 'D:\\\\model\\\\drugs.com\\\\pro\\\\'"
     ]
    }
   ],
   "source": [
    "\n",
    "import re\n",
    "import codecs\n",
    "from nltk.tokenize import sent_tokenize\n",
    "\n",
    "\n",
    "def readfile(file):\n",
    " fp = codecs.open(file,\"rU\", encoding=\"utf8\",errors='ignore')\n",
    " text = fp.read()\n",
    " return text\n",
    "\n",
    "\n",
    "\n",
    "import os\n",
    "file_content =[]\n",
    "dir = \"D:\\\\model\\\\drugs.com\\\\pro\\\\\"\n",
    "files = []\n",
    "for i in os.listdir(dir):\n",
    "     drugall=[]\n",
    "     newall=[]\n",
    "     y_pred_doseall=[]\n",
    "        \n",
    "     filepath=dir+i\n",
    "     drugall=readfile(filepath)\n",
    "     newall= '\\n'.join([x for x in drugall.split(\"\\n\") if x.strip()!=''])\n",
    "\n",
    "     newall=newall.split('\\n')\n",
    "     y_pred_doseall = nb3.predict(newall)\n",
    "     print(y_pred_doseall)\n",
    "\n",
    "\n",
    "     with open('D:\\\\model\\\\drugs.com\\\\pro_hasDurationResults1\\\\'+i, 'a',encoding=\"utf-8\") as f1:\n",
    "      for n1,g1 in zip(newall,y_pred_doseall):\n",
    "       print(n1,g1,file=f1)\n",
    "            \n",
    "\n",
    "# do what you want with all these open files\n"
   ]
  },
  {
   "cell_type": "code",
   "execution_count": null,
   "metadata": {},
   "outputs": [],
   "source": []
  }
 ],
 "metadata": {
  "kernelspec": {
   "display_name": "Python 3",
   "language": "python",
   "name": "python3"
  },
  "language_info": {
   "codemirror_mode": {
    "name": "ipython",
    "version": 3
   },
   "file_extension": ".py",
   "mimetype": "text/x-python",
   "name": "python",
   "nbconvert_exporter": "python",
   "pygments_lexer": "ipython3",
   "version": "3.7.4"
  }
 },
 "nbformat": 4,
 "nbformat_minor": 2
}
